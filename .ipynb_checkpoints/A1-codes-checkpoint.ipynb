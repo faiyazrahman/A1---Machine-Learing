{
 "cells": [
  {
   "cell_type": "markdown",
   "metadata": {},
   "source": [
    "# Assignment 1 - COMP255 - SDLC for Human Activity \n"
   ]
  },
  {
   "cell_type": "code",
   "execution_count": 2,
   "metadata": {},
   "outputs": [],
   "source": [
    "#Necessary imports\n",
    "import numpy as np \n",
    "import pandas as pd \n",
    "from scipy import signal\n",
    "import matplotlib.pyplot as plt \n",
    "import math\n",
    "from sklearn import preprocessing\n",
    "from sklearn.neighbors import KNeighborsClassifier\n",
    "from sklearn.metrics import make_scorer, accuracy_score, confusion_matrix\n",
    "from sklearn.svm import SVC\n",
    "from sklearn.model_selection import GridSearchCV"
   ]
  },
  {
   "cell_type": "code",
   "execution_count": null,
   "metadata": {},
   "outputs": [],
   "source": [
    "#Reading the data files\n",
    "\n",
    "df1 = pd.read_csv('dataset_1.txt', sep=',', header=None)  # use pandas to read csv file\n",
    "df2 = pd.read_csv('dataset_2.txt', sep=',', header=None)  # use pandas to read csv file\n",
    "df3 = pd.read_csv('dataset_3.txt', sep=',', header=None)  # use pandas to read csv file\n",
    "df4 = pd.read_csv('dataset_4.txt', sep=',', header=None)  # use pandas to read csv file\n",
    "df5 = pd.read_csv('dataset_5.txt', sep=',', header=None)  # use pandas to read csv file\n",
    "df6 = pd.read_csv('dataset_6.txt', sep=',', header=None)  # use pandas to read csv file\n",
    "df7 = pd.read_csv('dataset_7.txt', sep=',', header=None)  # use pandas to read csv file\n",
    "df8 = pd.read_csv('dataset_8.txt', sep=',', header=None)  # use pandas to read csv file\n",
    "df9 = pd.read_csv('dataset_9.txt', sep=',', header=None)  # use pandas to read csv file\n",
    "df10 = pd.read_csv('dataset_10.txt', sep=',', header=None)  # use pandas to read csv file\n",
    "df11 = pd.read_csv('dataset_11.txt', sep=',', header=None)  # use pandas to read csv file\n",
    "df12 = pd.read_csv('dataset_12.txt', sep=',', header=None)  # use pandas to read csv file\n",
    "df13 = pd.read_csv('dataset_13.txt', sep=',', header=None)  # use pandas to read csv file\n",
    "df14 = pd.read_csv('dataset_14.txt', sep=',', header=None)  # use pandas to read csv file\n",
    "df15 = pd.read_csv('dataset_15.txt', sep=',', header=None)  # use pandas to read csv file\n",
    "df16 = pd.read_csv('dataset_16.txt', sep=',', header=None)  # use pandas to read csv file\n",
    "df17 = pd.read_csv('dataset_17.txt', sep=',', header=None)  # use pandas to read csv file\n",
    "df18 = pd.read_csv('dataset_18.txt', sep=',', header=None)  # use pandas to read csv file\n",
    "df19 = pd.read_csv('dataset_19.txt', sep=',', header=None)  # use pandas to read csv file\n",
    "\n",
    "\n",
    "#print('The dataset contains %d rows.' % len(df)) \n",
    "#df.head() # show first 5 rows of the dataset\n",
    "\n",
    "df_row = pd.concat([df1, df2, df3, df4, df5, df6, df7, df8, df9, df10, df11, df12, df13, df14, df15, df16, df17, df18, df19])"
   ]
  },
  {
   "cell_type": "code",
   "execution_count": 51,
   "metadata": {},
   "outputs": [
    {
     "name": "stdout",
     "output_type": "stream",
     "text": [
      "The dataset contains 4686842 rows.\n"
     ]
    },
    {
     "data": {
      "text/html": [
       "<div>\n",
       "<style scoped>\n",
       "    .dataframe tbody tr th:only-of-type {\n",
       "        vertical-align: middle;\n",
       "    }\n",
       "\n",
       "    .dataframe tbody tr th {\n",
       "        vertical-align: top;\n",
       "    }\n",
       "\n",
       "    .dataframe thead th {\n",
       "        text-align: right;\n",
       "    }\n",
       "</style>\n",
       "<table border=\"1\" class=\"dataframe\">\n",
       "  <thead>\n",
       "    <tr style=\"text-align: right;\">\n",
       "      <th></th>\n",
       "      <th>0</th>\n",
       "      <th>1</th>\n",
       "      <th>2</th>\n",
       "      <th>3</th>\n",
       "      <th>4</th>\n",
       "      <th>5</th>\n",
       "      <th>6</th>\n",
       "      <th>7</th>\n",
       "      <th>8</th>\n",
       "      <th>9</th>\n",
       "      <th>...</th>\n",
       "      <th>15</th>\n",
       "      <th>16</th>\n",
       "      <th>17</th>\n",
       "      <th>18</th>\n",
       "      <th>19</th>\n",
       "      <th>20</th>\n",
       "      <th>21</th>\n",
       "      <th>22</th>\n",
       "      <th>23</th>\n",
       "      <th>24</th>\n",
       "    </tr>\n",
       "  </thead>\n",
       "  <tbody>\n",
       "    <tr>\n",
       "      <th>0</th>\n",
       "      <td>0.092478</td>\n",
       "      <td>0.14400</td>\n",
       "      <td>-0.009739</td>\n",
       "      <td>231.24</td>\n",
       "      <td>42.410</td>\n",
       "      <td>181.19</td>\n",
       "      <td>-0.13840</td>\n",
       "      <td>-0.85828</td>\n",
       "      <td>0.101680</td>\n",
       "      <td>32.813</td>\n",
       "      <td>...</td>\n",
       "      <td>-6.607700</td>\n",
       "      <td>-15.092</td>\n",
       "      <td>38.214</td>\n",
       "      <td>-0.90671</td>\n",
       "      <td>-0.43698</td>\n",
       "      <td>-0.52616</td>\n",
       "      <td>-91.394</td>\n",
       "      <td>33.158</td>\n",
       "      <td>4.2875</td>\n",
       "      <td>1</td>\n",
       "    </tr>\n",
       "    <tr>\n",
       "      <th>1</th>\n",
       "      <td>0.057310</td>\n",
       "      <td>0.16003</td>\n",
       "      <td>-0.009739</td>\n",
       "      <td>238.56</td>\n",
       "      <td>51.564</td>\n",
       "      <td>174.59</td>\n",
       "      <td>-0.15410</td>\n",
       "      <td>-0.86636</td>\n",
       "      <td>0.069517</td>\n",
       "      <td>46.727</td>\n",
       "      <td>...</td>\n",
       "      <td>-5.143100</td>\n",
       "      <td>-18.021</td>\n",
       "      <td>37.482</td>\n",
       "      <td>-0.94272</td>\n",
       "      <td>-0.32132</td>\n",
       "      <td>-0.49881</td>\n",
       "      <td>-82.606</td>\n",
       "      <td>36.087</td>\n",
       "      <td>-1.5711</td>\n",
       "      <td>1</td>\n",
       "    </tr>\n",
       "    <tr>\n",
       "      <th>2</th>\n",
       "      <td>0.022143</td>\n",
       "      <td>0.18408</td>\n",
       "      <td>-0.038329</td>\n",
       "      <td>243.69</td>\n",
       "      <td>59.620</td>\n",
       "      <td>166.17</td>\n",
       "      <td>-0.15410</td>\n",
       "      <td>-0.89867</td>\n",
       "      <td>0.053434</td>\n",
       "      <td>57.346</td>\n",
       "      <td>...</td>\n",
       "      <td>-3.678400</td>\n",
       "      <td>-20.584</td>\n",
       "      <td>37.116</td>\n",
       "      <td>-0.92271</td>\n",
       "      <td>-0.21722</td>\n",
       "      <td>-0.46756</td>\n",
       "      <td>-75.283</td>\n",
       "      <td>37.552</td>\n",
       "      <td>-5.9651</td>\n",
       "      <td>1</td>\n",
       "    </tr>\n",
       "    <tr>\n",
       "      <th>3</th>\n",
       "      <td>-0.001302</td>\n",
       "      <td>0.20412</td>\n",
       "      <td>-0.030160</td>\n",
       "      <td>246.62</td>\n",
       "      <td>65.112</td>\n",
       "      <td>156.29</td>\n",
       "      <td>-0.16981</td>\n",
       "      <td>-0.90675</td>\n",
       "      <td>0.049414</td>\n",
       "      <td>65.768</td>\n",
       "      <td>...</td>\n",
       "      <td>-0.749080</td>\n",
       "      <td>-23.514</td>\n",
       "      <td>35.285</td>\n",
       "      <td>-0.89070</td>\n",
       "      <td>-0.13626</td>\n",
       "      <td>-0.45193</td>\n",
       "      <td>-69.424</td>\n",
       "      <td>37.552</td>\n",
       "      <td>-8.8945</td>\n",
       "      <td>1</td>\n",
       "    </tr>\n",
       "    <tr>\n",
       "      <th>4</th>\n",
       "      <td>-0.032562</td>\n",
       "      <td>0.20813</td>\n",
       "      <td>-0.026076</td>\n",
       "      <td>250.64</td>\n",
       "      <td>70.605</td>\n",
       "      <td>145.30</td>\n",
       "      <td>-0.16981</td>\n",
       "      <td>-0.90675</td>\n",
       "      <td>0.081579</td>\n",
       "      <td>69.063</td>\n",
       "      <td>...</td>\n",
       "      <td>-0.016749</td>\n",
       "      <td>-24.246</td>\n",
       "      <td>33.088</td>\n",
       "      <td>-0.89870</td>\n",
       "      <td>-0.10927</td>\n",
       "      <td>-0.48709</td>\n",
       "      <td>-63.566</td>\n",
       "      <td>39.017</td>\n",
       "      <td>-10.3590</td>\n",
       "      <td>1</td>\n",
       "    </tr>\n",
       "  </tbody>\n",
       "</table>\n",
       "<p>5 rows × 25 columns</p>\n",
       "</div>"
      ],
      "text/plain": [
       "         0        1         2       3       4       5        6        7   \\\n",
       "0  0.092478  0.14400 -0.009739  231.24  42.410  181.19 -0.13840 -0.85828   \n",
       "1  0.057310  0.16003 -0.009739  238.56  51.564  174.59 -0.15410 -0.86636   \n",
       "2  0.022143  0.18408 -0.038329  243.69  59.620  166.17 -0.15410 -0.89867   \n",
       "3 -0.001302  0.20412 -0.030160  246.62  65.112  156.29 -0.16981 -0.90675   \n",
       "4 -0.032562  0.20813 -0.026076  250.64  70.605  145.30 -0.16981 -0.90675   \n",
       "\n",
       "         8       9   ...        15      16      17       18       19       20  \\\n",
       "0  0.101680  32.813  ... -6.607700 -15.092  38.214 -0.90671 -0.43698 -0.52616   \n",
       "1  0.069517  46.727  ... -5.143100 -18.021  37.482 -0.94272 -0.32132 -0.49881   \n",
       "2  0.053434  57.346  ... -3.678400 -20.584  37.116 -0.92271 -0.21722 -0.46756   \n",
       "3  0.049414  65.768  ... -0.749080 -23.514  35.285 -0.89070 -0.13626 -0.45193   \n",
       "4  0.081579  69.063  ... -0.016749 -24.246  33.088 -0.89870 -0.10927 -0.48709   \n",
       "\n",
       "       21      22       23  24  \n",
       "0 -91.394  33.158   4.2875   1  \n",
       "1 -82.606  36.087  -1.5711   1  \n",
       "2 -75.283  37.552  -5.9651   1  \n",
       "3 -69.424  37.552  -8.8945   1  \n",
       "4 -63.566  39.017 -10.3590   1  \n",
       "\n",
       "[5 rows x 25 columns]"
      ]
     },
     "execution_count": 51,
     "metadata": {},
     "output_type": "execute_result"
    }
   ],
   "source": [
    "print('The dataset contains %d rows.' % len(df_row)) \n",
    "df_row.head()"
   ]
  },
  {
   "cell_type": "markdown",
   "metadata": {},
   "source": [
    "### Data Visualisation from 4 devices and 2 sensors each "
   ]
  },
  {
   "cell_type": "code",
   "execution_count": 127,
   "metadata": {},
   "outputs": [],
   "source": [
    "def data_visulization():\n",
    "#read all datasets 1 at a time\\n\",\n",
    "    df = df_row\n",
    "    for c in range(1, 14): # for the range of activities show the data for the wrist accelerometer and gyroscopes\n",
    "        print('\\n activity ' + str(c)+ ', wrist accel' )\n",
    "        activity_data = df[df[24] == c].values\n",
    "\n",
    "    #draw the accel and gyro's of the wrist sensor for this current activity\\n\",\n",
    "    plt.plot(activity_data[:, 0:3])\n",
    "    plt.show()\n",
    "    #print('\\n activity ' + str(c) + ', wrist gyro')\n",
    "    plt.plot(activity_data[:, 3:6])\n",
    "    plt.show()"
   ]
  },
  {
   "cell_type": "code",
   "execution_count": null,
   "metadata": {},
   "outputs": [],
   "source": []
  },
  {
   "cell_type": "code",
   "execution_count": 128,
   "metadata": {},
   "outputs": [
    {
     "name": "stdout",
     "output_type": "stream",
     "text": [
      "\n",
      " activity 1, wrist accel\n",
      "\n",
      " activity 2, wrist accel\n",
      "\n",
      " activity 3, wrist accel\n",
      "\n",
      " activity 4, wrist accel\n",
      "\n",
      " activity 5, wrist accel\n",
      "\n",
      " activity 6, wrist accel\n",
      "\n",
      " activity 7, wrist accel\n",
      "\n",
      " activity 8, wrist accel\n",
      "\n",
      " activity 9, wrist accel\n",
      "\n",
      " activity 10, wrist accel\n",
      "\n",
      " activity 11, wrist accel\n",
      "\n",
      " activity 12, wrist accel\n",
      "\n",
      " activity 13, wrist accel\n"
     ]
    },
    {
     "data": {
      "image/png": "[encoded data removed]",
      "text/plain": [
       "<Figure size 432x288 with 1 Axes>"
      ]
     },
     "metadata": {
      "needs_background": "light"
     },
     "output_type": "display_data"
    },
    {
     "data": {
      "image/png": "[encoded data removed]",
      "text/plain": [
       "<Figure size 432x288 with 1 Axes>"
      ]
     },
     "metadata": {
      "needs_background": "light"
     },
     "output_type": "display_data"
    }
   ],
   "source": [
    "data_visulization()"
   ]
  },
  {
   "cell_type": "code",
   "execution_count": null,
   "metadata": {},
   "outputs": [],
   "source": [
    "###########################################################################\n",
    "CUSTOM CODE FROM HERE ON\n",
    "###########################################################################"
   ]
  },
  {
   "cell_type": "code",
   "execution_count": 99,
   "metadata": {},
   "outputs": [],
   "source": [
    "def data_visulization():\n",
    "    # read dataset file\n",
    "    df = df_row\n",
    "    df_sitting = df[df[24] == 1].values\n",
    "    # In this example code, only accelerometer 1 data (column 1 to 3) is used\n",
    "    plt.plot(df_sitting[:, 0:3])\n",
    "    plt.show()"
   ]
  },
  {
   "cell_type": "code",
   "execution_count": 100,
   "metadata": {},
   "outputs": [
    {
     "data": {
      "image/png": "[encoded data removed]",
      "text/plain": [
       "<Figure size 432x288 with 1 Axes>"
      ]
     },
     "metadata": {
      "needs_background": "light"
     },
     "output_type": "display_data"
    }
   ],
   "source": [
    "data_visulization()"
   ]
  },
  {
   "cell_type": "code",
   "execution_count": null,
   "metadata": {},
   "outputs": [],
   "source": []
  }
 ],
 "metadata": {
  "kernelspec": {
   "display_name": "Python 3",
   "language": "python",
   "name": "python3"
  },
  "language_info": {
   "codemirror_mode": {
    "name": "ipython",
    "version": 3
   },
   "file_extension": ".py",
   "mimetype": "text/x-python",
   "name": "python",
   "nbconvert_exporter": "python",
   "pygments_lexer": "ipython3",
   "version": "3.7.3"
  }
 },
 "nbformat": 4,
 "nbformat_minor": 2
}
