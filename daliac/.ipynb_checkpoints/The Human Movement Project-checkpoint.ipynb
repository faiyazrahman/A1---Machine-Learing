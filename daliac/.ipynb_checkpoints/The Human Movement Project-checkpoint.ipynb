{
 "cells": [
  {
   "cell_type": "markdown",
   "metadata": {},
   "source": [
    "# The Human Movement Project \n",
    "\n",
    "#### A Machine Learning Approach"
   ]
  },
  {
   "cell_type": "code",
   "execution_count": 2,
   "metadata": {},
   "outputs": [],
   "source": [
    "#All necessary imports to anazlyse, visualise data, train and test models.\n",
    "\n",
    "import numpy as np \n",
    "import pandas as pd \n",
    "from scipy import signal\n",
    "import matplotlib.pyplot as plt \n",
    "import math\n",
    "from sklearn import preprocessing\n",
    "from sklearn.neighbors import KNeighborsClassifier\n",
    "from sklearn.metrics import make_scorer, accuracy_score, confusion_matrix\n",
    "from sklearn.svm import SVC\n",
    "from sklearn.model_selection import GridSearchCV"
   ]
  },
  {
   "cell_type": "code",
   "execution_count": null,
   "metadata": {},
   "outputs": [],
   "source": [
    " def collect_data: \n",
    "        for all_data in data:\n",
    "            \n",
    "        \n",
    "        \n",
    "def data_visulization():\n",
    "    # read dataset file\n",
    "    df = pd.read_csv('dataset/dataset_1.txt', sep=',', header=None)\n",
    "    df_sitting = df[df[24] == 1].values\n",
    "    # In this example code, only accelerometer 1 data (column 1 to 3) is used\n",
    "    plt.plot(df_sitting[:, 0:3])\n",
    "    plt.show()"
   ]
  }
 ],
 "metadata": {
  "kernelspec": {
   "display_name": "Python 3",
   "language": "python",
   "name": "python3"
  },
  "language_info": {
   "codemirror_mode": {
    "name": "ipython",
    "version": 3
   },
   "file_extension": ".py",
   "mimetype": "text/x-python",
   "name": "python",
   "nbconvert_exporter": "python",
   "pygments_lexer": "ipython3",
   "version": "3.6.5"
  }
 },
 "nbformat": 4,
 "nbformat_minor": 2
}
